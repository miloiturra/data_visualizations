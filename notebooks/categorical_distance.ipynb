{
 "cells": [
  {
   "cell_type": "code",
   "execution_count": 29,
   "metadata": {
    "ExecuteTime": {
     "end_time": "2021-05-21T21:10:33.690972Z",
     "start_time": "2021-05-21T21:10:33.445832Z"
    }
   },
   "outputs": [],
   "source": [
    "import numpy as np\n",
    "import pandas as pd\n",
    "from matplotlib import pyplot as plt\n",
    "from scipy.optimize import minimize"
   ]
  },
  {
   "cell_type": "markdown",
   "metadata": {},
   "source": [
    "Im trying to see how cardinality affects total variation distance for two random probabilities on finite sets"
   ]
  },
  {
   "cell_type": "markdown",
   "metadata": {
    "ExecuteTime": {
     "end_time": "2021-05-13T15:34:09.609211Z",
     "start_time": "2021-05-13T15:34:09.606170Z"
    }
   },
   "source": [
    "# Totally random case\n",
    "where $\\alpha = 1$"
   ]
  },
  {
   "cell_type": "markdown",
   "metadata": {},
   "source": [
    "We define $p_1 \\sim Dirichlet((1, ..., 1))$ and $p_2 \\sim Dirichlet((1, ..., 1))$ and then compute $TV(p_1, p_2)$ to get some statistics"
   ]
  },
  {
   "cell_type": "code",
   "execution_count": 200,
   "metadata": {
    "ExecuteTime": {
     "end_time": "2021-05-21T21:58:36.171176Z",
     "start_time": "2021-05-21T21:58:36.165630Z"
    }
   },
   "outputs": [],
   "source": [
    "def calc_tv(p1, p2):\n",
    "    return abs(p1 - p2).sum(axis=1)\n",
    "\n",
    "def sample_two_dir(card, samples):\n",
    "    return np.random.dirichlet(np.ones(card), size=(2, samples))\n",
    "\n",
    "def sample_tv(card, samples, tv_func, kind='uniform'):\n",
    "    if kind == \"uniform\":\n",
    "        dir_samples = np.random.dirichlet(np.ones(card), size=(2, samples))\n",
    "    else:\n",
    "        pass\n",
    "    p1, p2 = dir_samples[0], dir_samples[1]\n",
    "    return tv_func(p1, p2)\n",
    "\n",
    "def estimate_prob(card, thresh, tv_func, kind='uniform',):\n",
    "    tv_samples = sample_tv(card, samples, tv_func, kind)\n",
    "    return (tv_samples >= thresh).mean()\n",
    "\n",
    "def estimate_mean(card, tv_func, kind='uniform'):\n",
    "    tv_samples = sample_tv(card, samples, tv_func, kind)\n",
    "    return tv_samples.mean() "
   ]
  },
  {
   "cell_type": "code",
   "execution_count": 223,
   "metadata": {
    "ExecuteTime": {
     "end_time": "2021-05-21T22:11:24.673804Z",
     "start_time": "2021-05-21T22:01:40.087099Z"
    }
   },
   "outputs": [],
   "source": [
    "card_range = np.arange(2, 100, dtype=int)\n",
    "samples = 1_000_000\n",
    "thresh = 1.5\n",
    "\n",
    "prob_series = pd.Series({card: estimate_prob(card, thresh, calc_tv) for card in card_range}, \n",
    "                        name=f'prob(tv > {thresh})')\n",
    "mean_series = pd.Series({card: estimate_mean(card, calc_tv) for card in card_range},\n",
    "                        name='E(tv)')"
   ]
  },
  {
   "cell_type": "code",
   "execution_count": 224,
   "metadata": {
    "ExecuteTime": {
     "end_time": "2021-05-21T22:11:24.775862Z",
     "start_time": "2021-05-21T22:11:24.675675Z"
    }
   },
   "outputs": [
    {
     "data": {
      "text/plain": [
       "<AxesSubplot:>"
      ]
     },
     "execution_count": 224,
     "metadata": {},
     "output_type": "execute_result"
    },
    {
     "data": {
      "image/png": "[encoded data removed]",
      "text/plain": [
       "<Figure size 432x288 with 1 Axes>"
      ]
     },
     "metadata": {
      "needs_background": "light"
     },
     "output_type": "display_data"
    }
   ],
   "source": [
    "prob_series.plot()"
   ]
  },
  {
   "cell_type": "code",
   "execution_count": 225,
   "metadata": {
    "ExecuteTime": {
     "end_time": "2021-05-21T22:11:24.871079Z",
     "start_time": "2021-05-21T22:11:24.777848Z"
    }
   },
   "outputs": [
    {
     "data": {
      "text/plain": [
       "<AxesSubplot:>"
      ]
     },
     "execution_count": 225,
     "metadata": {},
     "output_type": "execute_result"
    },
    {
     "data": {
      "image/png": "[encoded data removed]",
      "text/plain": [
       "<Figure size 432x288 with 1 Axes>"
      ]
     },
     "metadata": {
      "needs_background": "light"
     },
     "output_type": "display_data"
    }
   ],
   "source": [
    "mean_series.plot()"
   ]
  },
  {
   "cell_type": "markdown",
   "metadata": {},
   "source": [
    "# Find a sigmoid function that fit the mean values"
   ]
  },
  {
   "cell_type": "code",
   "execution_count": 226,
   "metadata": {
    "ExecuteTime": {
     "end_time": "2021-05-21T22:11:24.875454Z",
     "start_time": "2021-05-21T22:11:24.872927Z"
    }
   },
   "outputs": [],
   "source": [
    "def sigmoid(x, exponent, middle_x, amplitude, shift):\n",
    "    return amplitude * ((x-shift)**exponent/((x-shift)**exponent + middle_x**exponent))"
   ]
  },
  {
   "cell_type": "code",
   "execution_count": 227,
   "metadata": {
    "ExecuteTime": {
     "end_time": "2021-05-21T22:11:24.879121Z",
     "start_time": "2021-05-21T22:11:24.876975Z"
    }
   },
   "outputs": [],
   "source": [
    "cards = mean_series.index.values\n",
    "mean_values = mean_series.values"
   ]
  },
  {
   "cell_type": "code",
   "execution_count": 228,
   "metadata": {
    "ExecuteTime": {
     "end_time": "2021-05-21T22:11:24.981760Z",
     "start_time": "2021-05-21T22:11:24.880540Z"
    }
   },
   "outputs": [
    {
     "data": {
      "text/plain": [
       "<AxesSubplot:>"
      ]
     },
     "execution_count": 228,
     "metadata": {},
     "output_type": "execute_result"
    },
    {
     "data": {
      "image/png": "[encoded data removed]",
      "text/plain": [
       "<Figure size 432x288 with 1 Axes>"
      ]
     },
     "metadata": {
      "needs_background": "light"
     },
     "output_type": "display_data"
    }
   ],
   "source": [
    "exponent, middle_x, amplitude, shift = 1, 0.5, 1, 0\n",
    "plt.plot(cards, sigmoid(cards, exponent, middle_x, amplitude, shift))\n",
    "mean_series.plot()"
   ]
  },
  {
   "cell_type": "code",
   "execution_count": 229,
   "metadata": {
    "ExecuteTime": {
     "end_time": "2021-05-21T22:11:24.985691Z",
     "start_time": "2021-05-21T22:11:24.983041Z"
    }
   },
   "outputs": [],
   "source": [
    "def loss(exponent, middle_x, amplitude, shift, cut_card=40):\n",
    "    return ((sigmoid(cards[:cut_card], exponent, middle_x, amplitude, shift) - mean_values[:cut_card])**2).mean()"
   ]
  },
  {
   "cell_type": "code",
   "execution_count": 230,
   "metadata": {
    "ExecuteTime": {
     "end_time": "2021-05-21T22:11:25.114767Z",
     "start_time": "2021-05-21T22:11:24.988521Z"
    }
   },
   "outputs": [
    {
     "data": {
      "text/plain": [
       "<AxesSubplot:>"
      ]
     },
     "execution_count": 230,
     "metadata": {},
     "output_type": "execute_result"
    },
    {
     "data": {
      "image/png": "[encoded data removed]",
      "text/plain": [
       "<Figure size 432x288 with 1 Axes>"
      ]
     },
     "metadata": {
      "needs_background": "light"
     },
     "output_type": "display_data"
    }
   ],
   "source": [
    "x0 = [exponent, middle_x, amplitude, shift]\n",
    "result = minimize(lambda x: loss(x[0], x[1], x[2], x[3]), x0, method='Nelder-Mead', tol=1e-6)\n",
    "exponent, middle_x, amplitude, shift = result.x\n",
    "plt.plot(cards, sigmoid(cards, exponent, middle_x, amplitude, shift))\n",
    "mean_series.plot()"
   ]
  },
  {
   "cell_type": "code",
   "execution_count": 237,
   "metadata": {
    "ExecuteTime": {
     "end_time": "2021-05-21T22:22:49.015245Z",
     "start_time": "2021-05-21T22:22:49.011451Z"
    }
   },
   "outputs": [
    {
     "data": {
      "text/plain": [
       "array([1.012357, 0.513645, 0.999557, 0.980772])"
      ]
     },
     "execution_count": 237,
     "metadata": {},
     "output_type": "execute_result"
    }
   ],
   "source": [
    "np.round(np.array([exponent, middle_x, amplitude, shift]), 6)"
   ]
  },
  {
   "cell_type": "markdown",
   "metadata": {},
   "source": [
    "We use this optimized parameters $\\theta^*$ to define a normalized TV distance:\n",
    "$$tv^*(p_1, p_2) = \\frac{1}{\\sigma(C; \\theta^*)} \\sum_{i=1}^C |p_1(i) - p_2(i)| $$"
   ]
  },
  {
   "cell_type": "code",
   "execution_count": 232,
   "metadata": {
    "ExecuteTime": {
     "end_time": "2021-05-21T22:11:25.126336Z",
     "start_time": "2021-05-21T22:11:25.123094Z"
    }
   },
   "outputs": [],
   "source": [
    "def normalization(card):\n",
    "    return 1/sigmoid(card, exponent, middle_x, amplitude, shift)\n",
    "\n",
    "def calc_norm_tv(p1, p2):\n",
    "    return normalization(p1.shape[1]) * abs(p1 - p2).sum(axis=1)"
   ]
  },
  {
   "cell_type": "code",
   "execution_count": 233,
   "metadata": {
    "ExecuteTime": {
     "end_time": "2021-05-21T22:21:14.064734Z",
     "start_time": "2021-05-21T22:11:25.127969Z"
    }
   },
   "outputs": [],
   "source": [
    "card_range = np.arange(2, 100, dtype=int)\n",
    "samples = 1_000_000\n",
    "thresh = 1.5\n",
    "\n",
    "prob_series = pd.Series({card: estimate_prob(card, thresh, calc_norm_tv) for card in card_range}, \n",
    "                        name=f'prob(tv > {thresh})')\n",
    "mean_series = pd.Series({card: estimate_mean(card, calc_norm_tv) for card in card_range},\n",
    "                        name='E(tv)')"
   ]
  },
  {
   "cell_type": "code",
   "execution_count": 234,
   "metadata": {
    "ExecuteTime": {
     "end_time": "2021-05-21T22:21:14.167155Z",
     "start_time": "2021-05-21T22:21:14.067035Z"
    }
   },
   "outputs": [
    {
     "data": {
      "text/plain": [
       "<AxesSubplot:>"
      ]
     },
     "execution_count": 234,
     "metadata": {},
     "output_type": "execute_result"
    },
    {
     "data": {
      "image/png": "[encoded data removed]",
      "text/plain": [
       "<Figure size 432x288 with 1 Axes>"
      ]
     },
     "metadata": {
      "needs_background": "light"
     },
     "output_type": "display_data"
    }
   ],
   "source": [
    "prob_series.plot()"
   ]
  },
  {
   "cell_type": "code",
   "execution_count": 235,
   "metadata": {
    "ExecuteTime": {
     "end_time": "2021-05-21T22:21:14.270980Z",
     "start_time": "2021-05-21T22:21:14.168592Z"
    }
   },
   "outputs": [
    {
     "data": {
      "text/plain": [
       "<AxesSubplot:>"
      ]
     },
     "execution_count": 235,
     "metadata": {},
     "output_type": "execute_result"
    },
    {
     "data": {
      "image/png": "[encoded data removed]",
      "text/plain": [
       "<Figure size 432x288 with 1 Axes>"
      ]
     },
     "metadata": {
      "needs_background": "light"
     },
     "output_type": "display_data"
    }
   ],
   "source": [
    "mean_series.plot()"
   ]
  },
  {
   "cell_type": "code",
   "execution_count": null,
   "metadata": {},
   "outputs": [],
   "source": []
  },
  {
   "cell_type": "code",
   "execution_count": null,
   "metadata": {},
   "outputs": [],
   "source": []
  }
 ],
 "metadata": {
  "kernelspec": {
   "display_name": "Python [conda env:spike_basicoV5] *",
   "language": "python",
   "name": "conda-env-spike_basicoV5-py"
  },
  "language_info": {
   "codemirror_mode": {
    "name": "ipython",
    "version": 3
   },
   "file_extension": ".py",
   "mimetype": "text/x-python",
   "name": "python",
   "nbconvert_exporter": "python",
   "pygments_lexer": "ipython3",
   "version": "3.6.7"
  },
  "toc": {
   "base_numbering": 1,
   "nav_menu": {},
   "number_sections": true,
   "sideBar": true,
   "skip_h1_title": false,
   "title_cell": "Table of Contents",
   "title_sidebar": "Contents",
   "toc_cell": false,
   "toc_position": {},
   "toc_section_display": true,
   "toc_window_display": false
  }
 },
 "nbformat": 4,
 "nbformat_minor": 4
}
