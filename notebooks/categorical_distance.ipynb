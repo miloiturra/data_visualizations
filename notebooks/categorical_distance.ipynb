{
 "cells": [
  {
   "cell_type": "code",
   "execution_count": 1,
   "metadata": {
    "ExecuteTime": {
     "end_time": "2021-05-13T14:57:38.093532Z",
     "start_time": "2021-05-13T14:57:37.669996Z"
    }
   },
   "outputs": [],
   "source": [
    "import numpy as np\n",
    "import pandas as pd"
   ]
  },
  {
   "cell_type": "markdown",
   "metadata": {},
   "source": [
    "Im trying to see how cardinality affects total variation distance for two random probabilities on finite sets"
   ]
  },
  {
   "cell_type": "markdown",
   "metadata": {
    "ExecuteTime": {
     "end_time": "2021-05-13T15:34:09.609211Z",
     "start_time": "2021-05-13T15:34:09.606170Z"
    }
   },
   "source": [
    "# Totally random case\n",
    "where $\\alpha = 1$"
   ]
  },
  {
   "cell_type": "markdown",
   "metadata": {},
   "source": [
    "We define $p_1 \\sim Dirichlet((1, ..., 1))$ and $p_2 \\sim Dirichlet((1, ..., 1))$ and then compute $TV(p_1, p_2)$ to get some statistics"
   ]
  },
  {
   "cell_type": "code",
   "execution_count": 73,
   "metadata": {
    "ExecuteTime": {
     "end_time": "2021-05-13T16:03:17.604226Z",
     "start_time": "2021-05-13T16:03:17.597972Z"
    }
   },
   "outputs": [],
   "source": [
    "def calc_tv(p1, p2):\n",
    "    return abs(p1 - p2).sum(axis=1)\n",
    "\n",
    "def sample_two_dir(card, samples):\n",
    "    return np.random.dirichlet(np.ones(card), size=(2, samples))\n",
    "\n",
    "def sample_tv(card, samples, kind='uniform'):\n",
    "    if kind == \"uniform\":\n",
    "        dir_samples = np.random.dirichlet(np.ones(card), size=(2, samples))\n",
    "    else:\n",
    "        pass\n",
    "    p1, p2 = dir_samples[0], dir_samples[1]\n",
    "    tv = calc_tv(p1, p2)\n",
    "    return tv\n",
    "\n",
    "def estimate_prob(card, thresh, kind='uniform'):\n",
    "    tv_samples = sample_tv(card, samples, kind)\n",
    "    return (tv_samples >= thresh).mean()\n",
    "\n",
    "def estimate_mean(card, kind='uniform'):\n",
    "    tv_samples = sample_tv(card, samples, kind)\n",
    "    return tv_samples.mean() "
   ]
  },
  {
   "cell_type": "code",
   "execution_count": 92,
   "metadata": {
    "ExecuteTime": {
     "end_time": "2021-05-13T16:18:23.191212Z",
     "start_time": "2021-05-13T16:08:40.167855Z"
    }
   },
   "outputs": [],
   "source": [
    "card_range = np.arange(2, 100, dtype=int)\n",
    "samples = 1_000_000\n",
    "thresh = 1.5\n",
    "\n",
    "prob_series = pd.Series({card: estimate_prob(card, thresh) for card in card_range}, \n",
    "                        name=f'prob(tv > {thresh})')\n",
    "mean_series = pd.Series({card: estimate_mean(card) for card in card_range},\n",
    "                        name='E(tv)')"
   ]
  },
  {
   "cell_type": "code",
   "execution_count": 93,
   "metadata": {
    "ExecuteTime": {
     "end_time": "2021-05-13T16:18:23.326448Z",
     "start_time": "2021-05-13T16:18:23.192954Z"
    }
   },
   "outputs": [
    {
     "data": {
      "text/plain": [
       "<AxesSubplot:>"
      ]
     },
     "execution_count": 93,
     "metadata": {},
     "output_type": "execute_result"
    },
    {
     "data": {
      "image/png": "[encoded data removed]",
      "text/plain": [
       "<Figure size 432x288 with 1 Axes>"
      ]
     },
     "metadata": {
      "needs_background": "light"
     },
     "output_type": "display_data"
    }
   ],
   "source": [
    "prob_series.plot()"
   ]
  },
  {
   "cell_type": "code",
   "execution_count": 94,
   "metadata": {
    "ExecuteTime": {
     "end_time": "2021-05-13T16:18:23.424063Z",
     "start_time": "2021-05-13T16:18:23.328308Z"
    }
   },
   "outputs": [
    {
     "data": {
      "text/plain": [
       "<AxesSubplot:>"
      ]
     },
     "execution_count": 94,
     "metadata": {},
     "output_type": "execute_result"
    },
    {
     "data": {
      "image/png": "[encoded data removed]",
      "text/plain": [
       "<Figure size 432x288 with 1 Axes>"
      ]
     },
     "metadata": {
      "needs_background": "light"
     },
     "output_type": "display_data"
    }
   ],
   "source": [
    "mean_series.plot()"
   ]
  },
  {
   "cell_type": "code",
   "execution_count": null,
   "metadata": {},
   "outputs": [],
   "source": []
  }
 ],
 "metadata": {
  "kernelspec": {
   "display_name": "Python [conda env:spike_basicoV5] *",
   "language": "python",
   "name": "conda-env-spike_basicoV5-py"
  },
  "language_info": {
   "codemirror_mode": {
    "name": "ipython",
    "version": 3
   },
   "file_extension": ".py",
   "mimetype": "text/x-python",
   "name": "python",
   "nbconvert_exporter": "python",
   "pygments_lexer": "ipython3",
   "version": "3.6.7"
  },
  "toc": {
   "base_numbering": 1,
   "nav_menu": {},
   "number_sections": true,
   "sideBar": true,
   "skip_h1_title": false,
   "title_cell": "Table of Contents",
   "title_sidebar": "Contents",
   "toc_cell": false,
   "toc_position": {},
   "toc_section_display": true,
   "toc_window_display": false
  }
 },
 "nbformat": 4,
 "nbformat_minor": 4
}
